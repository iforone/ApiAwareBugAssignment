{
 "cells": [
  {
   "cell_type": "markdown",
   "id": "chemical-injection",
   "metadata": {},
   "source": [
    "### 📊 this notebook is used as a source of truth for calculating the peformance of the work"
   ]
  },
  {
   "cell_type": "code",
   "execution_count": 9,
   "id": "elegant-illness",
   "metadata": {},
   "outputs": [],
   "source": [
    "import pandas as pd\n",
    "import numpy as np\n",
    "import math \n",
    "import statistics\n",
    "from pandas import Timestamp\n",
    "import math"
   ]
  },
  {
   "cell_type": "code",
   "execution_count": 31,
   "id": "collect-smoke",
   "metadata": {},
   "outputs": [
    {
     "name": "stdout",
     "output_type": "stream",
     "text": [
      "-new\n",
      "223\n",
      "0.37166666666666665\n",
      "600\n"
     ]
    }
   ],
   "source": [
    "# get stat for -old or new and then compare\n",
    "def get_stat_for(file, authors, label='-new', extra='', time_a = 1, time_b = 1, time_c = 1):\n",
    "    pd.set_option(\"display.max_columns\", None)\n",
    "    df = pd.read_csv(file)\n",
    " \n",
    "    count = 0\n",
    "    total = 0\n",
    "\n",
    "    for (index, row) in df.iterrows():\n",
    "        # calcualte total scores\n",
    "        total_scores = {'history': 0, 'api': 0, 'code': 0, 'api_s': 0}\n",
    "\n",
    "        for i in range(1, 11):\n",
    "            h = row['history_at_' + str(i) + '_v']\n",
    "            c = row['code_at_' + str(i) + '_v']\n",
    "            a = row['api_at_' + str(i) + '_v']\n",
    "\n",
    "            if str(h) != 'nan':\n",
    "                total_scores['history'] += h\n",
    "            if str(c) != 'nan':\n",
    "                total_scores['code'] += c\n",
    "            if str(a) != 'nan':\n",
    "                total_scores['api'] += a\n",
    "                \n",
    "        # calcualte and rank developer scores\n",
    "        scores = {}    \n",
    "\n",
    "        for i in range(1, 11):\n",
    "            h = row['history_at_' + str(i) + '_v']\n",
    "            h_developer = row['history_at_' + str(i)]\n",
    "            c = row['code_at_' + str(i) + '_v']\n",
    "            c_developer = row['code_at_' + str(i)]\n",
    "            a = row['api_at_' + str(i) + '_v']\n",
    "            a_developer = row['api_at_' + str(i)]\n",
    "\n",
    "#             if str(h_developer) != 'nan':\n",
    "#                 if str(h) == 'nan' or h == 0 or total_scores['history'] <= 0:\n",
    "#                     scores[h_developer] = scores.get(h_developer, []) + [0]\n",
    "#                 else:\n",
    "#                     scores[h_developer] = scores.get(h_developer, []) + [time_a * float(h * 100 / total_scores['history'])]\n",
    "\n",
    "#             if str(c_developer) != 'nan':\n",
    "#                 if str(c) == 'nan' or c == 0 or total_scores['code'] <= 0:\n",
    "#                     scores[c_developer] = scores.get(c_developer, []) + [0]\n",
    "#                 else:\n",
    "#                     scores[c_developer] = scores.get(c_developer, []) + [time_b * float(c * 100 / total_scores['code'])]\n",
    "\n",
    "\n",
    "            if str(a_developer) != 'nan':\n",
    "                if str(a) == 'nan' or a == 0 or total_scores['api'] <= 0:\n",
    "                    scores[a_developer] = scores.get(a_developer, []) + [0]\n",
    "                else:\n",
    "                    row['confidence'] = row['confidence'] * 2 / i\n",
    "                    scores[a_developer] = scores.get(a_developer, []) + [time_c * row['confidence'] * float(a * 100 / total_scores['api'])]\n",
    "                    pass\n",
    "\n",
    "        # =====> BSBA       \n",
    "        bsba_ = {}\n",
    "        for i in range(1, 11):\n",
    "            h = row['history_at_' + str(i) + '_v']\n",
    "            h_developer = row['history_at_' + str(i)]\n",
    "            c = row['code_at_' + str(i) + '_v']\n",
    "            c_developer = row['code_at_' + str(i)]\n",
    "            a = row['api_at_' + str(i) + '_v']\n",
    "            a_developer = row['api_at_' + str(i)]\n",
    "\n",
    "            if str(h_developer) != 'nan':\n",
    "                if str(h) == 'nan' or h == 0 or total_scores['history'] <= 0:\n",
    "                    bsba_[h_developer] = bsba_.get(h_developer, []) + [0]\n",
    "                else:\n",
    "                    bsba_[h_developer] = bsba_.get(h_developer, []) + [time_a * float(h * 100 / total_scores['history'])]\n",
    "\n",
    "            if str(c_developer) != 'nan':\n",
    "                if str(c) == 'nan' or c == 0 or total_scores['code'] <= 0:\n",
    "                    bsba_[c_developer] = bsba_.get(c_developer, []) + [0]\n",
    "                else:\n",
    "                    bsba_[c_developer] = bsba_.get(c_developer, []) + [time_b * float(c * 100 / total_scores['code'])]\n",
    "        for index_, score in bsba_.items():\n",
    "            if len(score) == 0:\n",
    "                bsba_[index_] = 0\n",
    "            else:\n",
    "                bsba_[index_] = sum(score)\n",
    "        bsba_ = sorted(bsba_.items(), key=lambda x: x[1], reverse=True)\n",
    "        # <=====\n",
    "                \n",
    "\n",
    "        # calculate the total\n",
    "        for index_, score in scores.items():\n",
    "            if len(score) == 0:\n",
    "                scores[index_] = 0\n",
    "            else:\n",
    "                scores[index_] = sum(score)  ## ** (1/float(len(score)))\n",
    "\n",
    "\n",
    "        sort = sorted(scores.items(), key=lambda x: x[1], reverse=True)\n",
    "\n",
    "        chosen = ''\n",
    "        if len(sort) != 0:\n",
    "            chosen = sort[0][0]\n",
    "        \n",
    "\n",
    "        \n",
    "        if chosen == row['assignees']:\n",
    "            count += 1\n",
    "\n",
    "            \n",
    "        previous = row['assignees']\n",
    "        total += 1\n",
    "\n",
    "        if row['assignees'] not in authors:\n",
    "            authors[row['assignees']] = {\n",
    "                'total-new': 0, 'count_differently-new': 0, 'count-new': 0, 'count_history-new': 0, 'count_code-new': 0, 'count_api-new': 0,\n",
    "                'total-old': 0, 'count_differently-old': 0, 'count-old': 0, 'count_history-old': 0, 'count_code-old': 0, 'count_api-old': 0,\n",
    "                'false_positive-new': 0, 'false_positive-old': 0, 'bsba-new': 0, 'bsba-old': 0\n",
    "                }\n",
    "        if sort[0][0] not in authors:\n",
    "            authors[sort[0][0]] = {\n",
    "                'total-new': 0, 'count_differently-new': 0, 'count-new': 0, 'count_history-new': 0, 'count_code-new': 0, 'count_api-new': 0,\n",
    "                'total-old': 0, 'count_differently-old': 0, 'count-old': 0, 'count_history-old': 0, 'count_code-old': 0, 'count_api-old': 0,\n",
    "                'false_positive-new': 0, 'false_positive-old': 0, 'bsba-new': 0, 'bsba-old': 0\n",
    "                }        \n",
    "            \n",
    "            \n",
    "\n",
    "        authors[row['assignees']]['total' + label] += 1\n",
    "        if row['assignees'] == row['history_at_1']:\n",
    "            authors[row['assignees']]['count_history' + label] += 1\n",
    "        if row['assignees'] == row['code_at_1']:\n",
    "            authors[row['assignees']]['count_code' + label] += 1\n",
    "        if row['assignees'] == row['api_at_1']:\n",
    "            authors[row['assignees']]['count_api' + label] += 1\n",
    "        if 1 == row['at_1']:\n",
    "            authors[row['assignees']]['count' + label] += 1\n",
    "        if 0 < len(sort) and sort[0][0] == row['assignees']:\n",
    "            authors[row['assignees']]['count_differently' + label] += 1\n",
    "        if sort[0][0] != row['assignees']:\n",
    "            authors[sort[0][0]]['false_positive' + label] += 1\n",
    "        if 0 < len(bsba_) and bsba_[0][0] == row['assignees']:  \n",
    "            authors[row['assignees']]['bsba' + label] += 1\n",
    "        \n",
    "        previous = row['chosen']\n",
    "        previous_time = row['report_time']\n",
    "        previous_component = row['component']\n",
    "   \n",
    "\n",
    "    if extra == 'ratio':\n",
    "        return count / total\n",
    "    print(label)\n",
    "    print(count)\n",
    "    print(count / total)\n",
    "    print(total)\n",
    "    return authors\n",
    "\n",
    "\n",
    "\n",
    "authors_ = {}\n",
    "authors_ = get_stat_for('../data/output/jdt_direct.csv', authors_, '-new', '', 1, 1, 1)\n",
    "\n",
    "# ave = 0\n",
    "# for x in range(0, 5):\n",
    "#     answer = get_stat_for('../data/output/l2r-style-outputs/jdt_direct_' + str(x) +'_.csv', {}, '-new', 'ratio', 1, 1, 1)\n",
    "#     print(answer)\n",
    "#     ave += answer\n",
    "# print(ave / 5)"
   ]
  },
  {
   "cell_type": "code",
   "execution_count": 13,
   "id": "alternative-transcription",
   "metadata": {},
   "outputs": [
    {
     "ename": "FileNotFoundError",
     "evalue": "[Errno 2] No such file or directory: '../data/output/jdt_direct_0_.csv'",
     "output_type": "error",
     "traceback": [
      "\u001b[0;31m---------------------------------------------------------------------------\u001b[0m",
      "\u001b[0;31mFileNotFoundError\u001b[0m                         Traceback (most recent call last)",
      "\u001b[0;32m<ipython-input-13-475ab171d812>\u001b[0m in \u001b[0;36m<module>\u001b[0;34m\u001b[0m\n\u001b[1;32m      1\u001b[0m \u001b[0mave\u001b[0m \u001b[0;34m=\u001b[0m \u001b[0;36m0\u001b[0m\u001b[0;34m\u001b[0m\u001b[0;34m\u001b[0m\u001b[0m\n\u001b[1;32m      2\u001b[0m \u001b[0;32mfor\u001b[0m \u001b[0mx\u001b[0m \u001b[0;32min\u001b[0m \u001b[0mrange\u001b[0m\u001b[0;34m(\u001b[0m\u001b[0;36m0\u001b[0m\u001b[0;34m,\u001b[0m \u001b[0;36m5\u001b[0m\u001b[0;34m)\u001b[0m\u001b[0;34m:\u001b[0m\u001b[0;34m\u001b[0m\u001b[0;34m\u001b[0m\u001b[0m\n\u001b[0;32m----> 3\u001b[0;31m     \u001b[0mave\u001b[0m \u001b[0;34m+=\u001b[0m \u001b[0mget_stat_for\u001b[0m\u001b[0;34m(\u001b[0m\u001b[0;34m'../data/output/jdt_direct_'\u001b[0m \u001b[0;34m+\u001b[0m \u001b[0mstr\u001b[0m\u001b[0;34m(\u001b[0m\u001b[0mx\u001b[0m\u001b[0;34m)\u001b[0m \u001b[0;34m+\u001b[0m\u001b[0;34m'_.csv'\u001b[0m\u001b[0;34m,\u001b[0m \u001b[0;34m{\u001b[0m\u001b[0;34m}\u001b[0m\u001b[0;34m,\u001b[0m \u001b[0;34m'-new'\u001b[0m\u001b[0;34m,\u001b[0m \u001b[0;34m'ratio'\u001b[0m\u001b[0;34m,\u001b[0m \u001b[0;36m1\u001b[0m\u001b[0;34m,\u001b[0m \u001b[0;36m1\u001b[0m\u001b[0;34m,\u001b[0m \u001b[0;36m1\u001b[0m\u001b[0;34m)\u001b[0m\u001b[0;34m\u001b[0m\u001b[0;34m\u001b[0m\u001b[0m\n\u001b[0m\u001b[1;32m      4\u001b[0m \u001b[0mprint\u001b[0m\u001b[0;34m(\u001b[0m\u001b[0mave\u001b[0m \u001b[0;34m/\u001b[0m \u001b[0;36m5\u001b[0m\u001b[0;34m)\u001b[0m\u001b[0;34m\u001b[0m\u001b[0;34m\u001b[0m\u001b[0m\n",
      "\u001b[0;32m<ipython-input-12-4d77d53d0a63>\u001b[0m in \u001b[0;36mget_stat_for\u001b[0;34m(file, authors, label, extra, time_a, time_b, time_c)\u001b[0m\n\u001b[1;32m      2\u001b[0m \u001b[0;32mdef\u001b[0m \u001b[0mget_stat_for\u001b[0m\u001b[0;34m(\u001b[0m\u001b[0mfile\u001b[0m\u001b[0;34m,\u001b[0m \u001b[0mauthors\u001b[0m\u001b[0;34m,\u001b[0m \u001b[0mlabel\u001b[0m\u001b[0;34m=\u001b[0m\u001b[0;34m'-new'\u001b[0m\u001b[0;34m,\u001b[0m \u001b[0mextra\u001b[0m\u001b[0;34m=\u001b[0m\u001b[0;34m''\u001b[0m\u001b[0;34m,\u001b[0m \u001b[0mtime_a\u001b[0m \u001b[0;34m=\u001b[0m \u001b[0;36m1\u001b[0m\u001b[0;34m,\u001b[0m \u001b[0mtime_b\u001b[0m \u001b[0;34m=\u001b[0m \u001b[0;36m1\u001b[0m\u001b[0;34m,\u001b[0m \u001b[0mtime_c\u001b[0m \u001b[0;34m=\u001b[0m \u001b[0;36m1\u001b[0m\u001b[0;34m)\u001b[0m\u001b[0;34m:\u001b[0m\u001b[0;34m\u001b[0m\u001b[0;34m\u001b[0m\u001b[0m\n\u001b[1;32m      3\u001b[0m     \u001b[0mpd\u001b[0m\u001b[0;34m.\u001b[0m\u001b[0mset_option\u001b[0m\u001b[0;34m(\u001b[0m\u001b[0;34m\"display.max_columns\"\u001b[0m\u001b[0;34m,\u001b[0m \u001b[0;32mNone\u001b[0m\u001b[0;34m)\u001b[0m\u001b[0;34m\u001b[0m\u001b[0;34m\u001b[0m\u001b[0m\n\u001b[0;32m----> 4\u001b[0;31m     \u001b[0mdf\u001b[0m \u001b[0;34m=\u001b[0m \u001b[0mpd\u001b[0m\u001b[0;34m.\u001b[0m\u001b[0mread_csv\u001b[0m\u001b[0;34m(\u001b[0m\u001b[0mfile\u001b[0m\u001b[0;34m)\u001b[0m\u001b[0;34m\u001b[0m\u001b[0;34m\u001b[0m\u001b[0m\n\u001b[0m\u001b[1;32m      5\u001b[0m \u001b[0;34m\u001b[0m\u001b[0m\n\u001b[1;32m      6\u001b[0m     \u001b[0mcount\u001b[0m \u001b[0;34m=\u001b[0m \u001b[0;36m0\u001b[0m\u001b[0;34m\u001b[0m\u001b[0;34m\u001b[0m\u001b[0m\n",
      "\u001b[0;32m/usr/local/anaconda3/lib/python3.8/site-packages/pandas/io/parsers.py\u001b[0m in \u001b[0;36mread_csv\u001b[0;34m(filepath_or_buffer, sep, delimiter, header, names, index_col, usecols, squeeze, prefix, mangle_dupe_cols, dtype, engine, converters, true_values, false_values, skipinitialspace, skiprows, skipfooter, nrows, na_values, keep_default_na, na_filter, verbose, skip_blank_lines, parse_dates, infer_datetime_format, keep_date_col, date_parser, dayfirst, cache_dates, iterator, chunksize, compression, thousands, decimal, lineterminator, quotechar, quoting, doublequote, escapechar, comment, encoding, dialect, error_bad_lines, warn_bad_lines, delim_whitespace, low_memory, memory_map, float_precision)\u001b[0m\n\u001b[1;32m    684\u001b[0m     )\n\u001b[1;32m    685\u001b[0m \u001b[0;34m\u001b[0m\u001b[0m\n\u001b[0;32m--> 686\u001b[0;31m     \u001b[0;32mreturn\u001b[0m \u001b[0m_read\u001b[0m\u001b[0;34m(\u001b[0m\u001b[0mfilepath_or_buffer\u001b[0m\u001b[0;34m,\u001b[0m \u001b[0mkwds\u001b[0m\u001b[0;34m)\u001b[0m\u001b[0;34m\u001b[0m\u001b[0;34m\u001b[0m\u001b[0m\n\u001b[0m\u001b[1;32m    687\u001b[0m \u001b[0;34m\u001b[0m\u001b[0m\n\u001b[1;32m    688\u001b[0m \u001b[0;34m\u001b[0m\u001b[0m\n",
      "\u001b[0;32m/usr/local/anaconda3/lib/python3.8/site-packages/pandas/io/parsers.py\u001b[0m in \u001b[0;36m_read\u001b[0;34m(filepath_or_buffer, kwds)\u001b[0m\n\u001b[1;32m    450\u001b[0m \u001b[0;34m\u001b[0m\u001b[0m\n\u001b[1;32m    451\u001b[0m     \u001b[0;31m# Create the parser.\u001b[0m\u001b[0;34m\u001b[0m\u001b[0;34m\u001b[0m\u001b[0;34m\u001b[0m\u001b[0m\n\u001b[0;32m--> 452\u001b[0;31m     \u001b[0mparser\u001b[0m \u001b[0;34m=\u001b[0m \u001b[0mTextFileReader\u001b[0m\u001b[0;34m(\u001b[0m\u001b[0mfp_or_buf\u001b[0m\u001b[0;34m,\u001b[0m \u001b[0;34m**\u001b[0m\u001b[0mkwds\u001b[0m\u001b[0;34m)\u001b[0m\u001b[0;34m\u001b[0m\u001b[0;34m\u001b[0m\u001b[0m\n\u001b[0m\u001b[1;32m    453\u001b[0m \u001b[0;34m\u001b[0m\u001b[0m\n\u001b[1;32m    454\u001b[0m     \u001b[0;32mif\u001b[0m \u001b[0mchunksize\u001b[0m \u001b[0;32mor\u001b[0m \u001b[0miterator\u001b[0m\u001b[0;34m:\u001b[0m\u001b[0;34m\u001b[0m\u001b[0;34m\u001b[0m\u001b[0m\n",
      "\u001b[0;32m/usr/local/anaconda3/lib/python3.8/site-packages/pandas/io/parsers.py\u001b[0m in \u001b[0;36m__init__\u001b[0;34m(self, f, engine, **kwds)\u001b[0m\n\u001b[1;32m    944\u001b[0m             \u001b[0mself\u001b[0m\u001b[0;34m.\u001b[0m\u001b[0moptions\u001b[0m\u001b[0;34m[\u001b[0m\u001b[0;34m\"has_index_names\"\u001b[0m\u001b[0;34m]\u001b[0m \u001b[0;34m=\u001b[0m \u001b[0mkwds\u001b[0m\u001b[0;34m[\u001b[0m\u001b[0;34m\"has_index_names\"\u001b[0m\u001b[0;34m]\u001b[0m\u001b[0;34m\u001b[0m\u001b[0;34m\u001b[0m\u001b[0m\n\u001b[1;32m    945\u001b[0m \u001b[0;34m\u001b[0m\u001b[0m\n\u001b[0;32m--> 946\u001b[0;31m         \u001b[0mself\u001b[0m\u001b[0;34m.\u001b[0m\u001b[0m_make_engine\u001b[0m\u001b[0;34m(\u001b[0m\u001b[0mself\u001b[0m\u001b[0;34m.\u001b[0m\u001b[0mengine\u001b[0m\u001b[0;34m)\u001b[0m\u001b[0;34m\u001b[0m\u001b[0;34m\u001b[0m\u001b[0m\n\u001b[0m\u001b[1;32m    947\u001b[0m \u001b[0;34m\u001b[0m\u001b[0m\n\u001b[1;32m    948\u001b[0m     \u001b[0;32mdef\u001b[0m \u001b[0mclose\u001b[0m\u001b[0;34m(\u001b[0m\u001b[0mself\u001b[0m\u001b[0;34m)\u001b[0m\u001b[0;34m:\u001b[0m\u001b[0;34m\u001b[0m\u001b[0;34m\u001b[0m\u001b[0m\n",
      "\u001b[0;32m/usr/local/anaconda3/lib/python3.8/site-packages/pandas/io/parsers.py\u001b[0m in \u001b[0;36m_make_engine\u001b[0;34m(self, engine)\u001b[0m\n\u001b[1;32m   1176\u001b[0m     \u001b[0;32mdef\u001b[0m \u001b[0m_make_engine\u001b[0m\u001b[0;34m(\u001b[0m\u001b[0mself\u001b[0m\u001b[0;34m,\u001b[0m \u001b[0mengine\u001b[0m\u001b[0;34m=\u001b[0m\u001b[0;34m\"c\"\u001b[0m\u001b[0;34m)\u001b[0m\u001b[0;34m:\u001b[0m\u001b[0;34m\u001b[0m\u001b[0;34m\u001b[0m\u001b[0m\n\u001b[1;32m   1177\u001b[0m         \u001b[0;32mif\u001b[0m \u001b[0mengine\u001b[0m \u001b[0;34m==\u001b[0m \u001b[0;34m\"c\"\u001b[0m\u001b[0;34m:\u001b[0m\u001b[0;34m\u001b[0m\u001b[0;34m\u001b[0m\u001b[0m\n\u001b[0;32m-> 1178\u001b[0;31m             \u001b[0mself\u001b[0m\u001b[0;34m.\u001b[0m\u001b[0m_engine\u001b[0m \u001b[0;34m=\u001b[0m \u001b[0mCParserWrapper\u001b[0m\u001b[0;34m(\u001b[0m\u001b[0mself\u001b[0m\u001b[0;34m.\u001b[0m\u001b[0mf\u001b[0m\u001b[0;34m,\u001b[0m \u001b[0;34m**\u001b[0m\u001b[0mself\u001b[0m\u001b[0;34m.\u001b[0m\u001b[0moptions\u001b[0m\u001b[0;34m)\u001b[0m\u001b[0;34m\u001b[0m\u001b[0;34m\u001b[0m\u001b[0m\n\u001b[0m\u001b[1;32m   1179\u001b[0m         \u001b[0;32melse\u001b[0m\u001b[0;34m:\u001b[0m\u001b[0;34m\u001b[0m\u001b[0;34m\u001b[0m\u001b[0m\n\u001b[1;32m   1180\u001b[0m             \u001b[0;32mif\u001b[0m \u001b[0mengine\u001b[0m \u001b[0;34m==\u001b[0m \u001b[0;34m\"python\"\u001b[0m\u001b[0;34m:\u001b[0m\u001b[0;34m\u001b[0m\u001b[0;34m\u001b[0m\u001b[0m\n",
      "\u001b[0;32m/usr/local/anaconda3/lib/python3.8/site-packages/pandas/io/parsers.py\u001b[0m in \u001b[0;36m__init__\u001b[0;34m(self, src, **kwds)\u001b[0m\n\u001b[1;32m   2006\u001b[0m         \u001b[0mkwds\u001b[0m\u001b[0;34m[\u001b[0m\u001b[0;34m\"usecols\"\u001b[0m\u001b[0;34m]\u001b[0m \u001b[0;34m=\u001b[0m \u001b[0mself\u001b[0m\u001b[0;34m.\u001b[0m\u001b[0musecols\u001b[0m\u001b[0;34m\u001b[0m\u001b[0;34m\u001b[0m\u001b[0m\n\u001b[1;32m   2007\u001b[0m \u001b[0;34m\u001b[0m\u001b[0m\n\u001b[0;32m-> 2008\u001b[0;31m         \u001b[0mself\u001b[0m\u001b[0;34m.\u001b[0m\u001b[0m_reader\u001b[0m \u001b[0;34m=\u001b[0m \u001b[0mparsers\u001b[0m\u001b[0;34m.\u001b[0m\u001b[0mTextReader\u001b[0m\u001b[0;34m(\u001b[0m\u001b[0msrc\u001b[0m\u001b[0;34m,\u001b[0m \u001b[0;34m**\u001b[0m\u001b[0mkwds\u001b[0m\u001b[0;34m)\u001b[0m\u001b[0;34m\u001b[0m\u001b[0;34m\u001b[0m\u001b[0m\n\u001b[0m\u001b[1;32m   2009\u001b[0m         \u001b[0mself\u001b[0m\u001b[0;34m.\u001b[0m\u001b[0munnamed_cols\u001b[0m \u001b[0;34m=\u001b[0m \u001b[0mself\u001b[0m\u001b[0;34m.\u001b[0m\u001b[0m_reader\u001b[0m\u001b[0;34m.\u001b[0m\u001b[0munnamed_cols\u001b[0m\u001b[0;34m\u001b[0m\u001b[0;34m\u001b[0m\u001b[0m\n\u001b[1;32m   2010\u001b[0m \u001b[0;34m\u001b[0m\u001b[0m\n",
      "\u001b[0;32mpandas/_libs/parsers.pyx\u001b[0m in \u001b[0;36mpandas._libs.parsers.TextReader.__cinit__\u001b[0;34m()\u001b[0m\n",
      "\u001b[0;32mpandas/_libs/parsers.pyx\u001b[0m in \u001b[0;36mpandas._libs.parsers.TextReader._setup_parser_source\u001b[0;34m()\u001b[0m\n",
      "\u001b[0;31mFileNotFoundError\u001b[0m: [Errno 2] No such file or directory: '../data/output/jdt_direct_0_.csv'"
     ]
    }
   ],
   "source": [
    "ave = 0\n",
    "for x in range(0, 5):\n",
    "    ave += get_stat_for('../data/output/jdt_direct_' + str(x) +'_.csv', {}, '-new', 'ratio', 1, 1, 1)\n",
    "print(ave / 5)"
   ]
  },
  {
   "cell_type": "code",
   "execution_count": 27,
   "id": "celtic-banks",
   "metadata": {},
   "outputs": [],
   "source": [
    "authors_df = pd.DataFrame.from_dict(authors_)\n",
    "\n",
    "authors_df = authors_df[['Dani Megert', 'Markus Keller','Raksha Vasisht']]"
   ]
  },
  {
   "cell_type": "code",
   "execution_count": 28,
   "id": "arctic-pathology",
   "metadata": {
    "scrolled": true
   },
   "outputs": [
    {
     "data": {
      "text/plain": [
       "<AxesSubplot:>"
      ]
     },
     "execution_count": 28,
     "metadata": {},
     "output_type": "execute_result"
    },
    {
     "data": {
      "image/png": "[encoded data removed]",
      "text/plain": [
       "<Figure size 720x468 with 1 Axes>"
      ]
     },
     "metadata": {
      "needs_background": "light"
     },
     "output_type": "display_data"
    }
   ],
   "source": [
    "considered_df = authors_df.T\n",
    "considered_df = considered_df[considered_df['total-new'] >= 10]\n",
    "\n",
    "\n",
    "considered_df['api_ratio'] = considered_df['count_api-new']/considered_df['total-new']\n",
    "considered_df['code_ratio'] = considered_df['count_code-new']/considered_df['total-new']\n",
    "considered_df['history_ratio'] = considered_df['count_history-new']/considered_df['total-new']\n",
    "considered_df['api aware bsba'] = considered_df['count_differently-new']/considered_df['total-new']\n",
    "considered_df['false_positive'] = considered_df['false_positive-new']/considered_df['total-new']\n",
    "considered_df['basba'] = considered_df['bsba-new']/considered_df['total-new']\n",
    "\n",
    "\n",
    "\n",
    "considered_df[['history_ratio', 'code_ratio', 'api_ratio', 'api aware bsba', 'basba']].plot(kind=\"bar\", ylim=(0,1), figsize=(10,6.5))"
   ]
  }
 ],
 "metadata": {
  "kernelspec": {
   "display_name": "Python 3",
   "language": "python",
   "name": "python3"
  },
  "language_info": {
   "codemirror_mode": {
    "name": "ipython",
    "version": 3
   },
   "file_extension": ".py",
   "mimetype": "text/x-python",
   "name": "python",
   "nbconvert_exporter": "python",
   "pygments_lexer": "ipython3",
   "version": "3.8.5"
  }
 },
 "nbformat": 4,
 "nbformat_minor": 5
}
