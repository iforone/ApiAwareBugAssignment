{
 "cells": [
  {
   "cell_type": "code",
   "execution_count": 33,
   "id": "micro-toronto",
   "metadata": {},
   "outputs": [],
   "source": [
    "import pandas as pd\n",
    "import numpy as np\n",
    "import math \n",
    "import statistics\n",
    "from pandas import Timestamp\n",
    "import math\n",
    "\n",
    "pd.set_option(\"display.max_columns\", None)\n",
    "pd.set_option(\"display.max_rows\", None)"
   ]
  },
  {
   "cell_type": "code",
   "execution_count": 38,
   "id": "boxed-arrival",
   "metadata": {},
   "outputs": [],
   "source": [
    "# get stat for -old or new and then compare\n",
    "def get_stat_for(file, authors, label='-new', extra='', time_a = 1, time_b = 1, time_c = 1):\n",
    "    pd.set_option(\"display.max_columns\", None)\n",
    "    df = pd.read_csv(file)\n",
    " \n",
    "    count = 0\n",
    "    total = 0\n",
    "\n",
    "    for (index, row) in df.iterrows():\n",
    "        # calcualte total scores\n",
    "        total_scores = {'history': 0, 'api': 0, 'code': 0, 'api_s': 0}\n",
    "\n",
    "        for i in range(1, 11):\n",
    "            h = row['history_at_' + str(i) + '_v']\n",
    "            c = row['code_at_' + str(i) + '_v']\n",
    "            a = row['api_at_' + str(i) + '_v']\n",
    "\n",
    "            if str(h) != 'nan':\n",
    "                total_scores['history'] += h\n",
    "            if str(c) != 'nan':\n",
    "                total_scores['code'] += c\n",
    "            if str(a) != 'nan':\n",
    "                total_scores['api'] += a\n",
    "                \n",
    "        # calcualte and rank developer scores\n",
    "        scores = {}    \n",
    "\n",
    "        for i in range(1, 11):\n",
    "            h = row['history_at_' + str(i) + '_v']\n",
    "            h_developer = row['history_at_' + str(i)]\n",
    "            c = row['code_at_' + str(i) + '_v']\n",
    "            c_developer = row['code_at_' + str(i)]\n",
    "            a = row['api_at_' + str(i) + '_v']\n",
    "            a_developer = row['api_at_' + str(i)]\n",
    "\n",
    "            if str(h_developer) != 'nan':\n",
    "                if str(h) == 'nan' or h == 0 or total_scores['history'] <= 0:\n",
    "                    scores[h_developer] = scores.get(h_developer, []) + [0]\n",
    "                else:\n",
    "                    scores[h_developer] = scores.get(h_developer, []) + [time_a * float(h * 100 / total_scores['history'])]\n",
    "\n",
    "            if str(c_developer) != 'nan':\n",
    "                if str(c) == 'nan' or c == 0 or total_scores['code'] <= 0:\n",
    "                    scores[c_developer] = scores.get(c_developer, []) + [0]\n",
    "                else:\n",
    "                    scores[c_developer] = scores.get(c_developer, []) + [time_b * float(c * 100 / total_scores['code'])]\n",
    "\n",
    "\n",
    "            if str(a_developer) != 'nan':\n",
    "                if str(a) == 'nan' or a == 0 or total_scores['api'] <= 0:\n",
    "                    scores[a_developer] = scores.get(a_developer, []) + [0]\n",
    "                else: #  \n",
    "                    scores[a_developer] = scores.get(a_developer, []) + [time_c * row['jaccard_score'] * float(a * 100 / total_scores['api'])]\n",
    "                    pass\n",
    "                \n",
    "\n",
    "        # calculate the total\n",
    "        for index_, score in scores.items():\n",
    "            if len(score) == 0:\n",
    "                scores[index_] = 0\n",
    "            else:\n",
    "                scores[index_] = sum(score)  ## ** (1/float(len(score)))\n",
    "\n",
    "\n",
    "        sort = sorted(scores.items(), key=lambda x: x[1], reverse=True)\n",
    "\n",
    "        chosen = ''\n",
    "        if len(sort) != 0:\n",
    "            chosen = sort[0][0]\n",
    "        if chosen == row['author']:\n",
    "            count += 1\n",
    "        total += 1   \n",
    "\n",
    "    if extra == 'ratio':\n",
    "        return count / total\n",
    "    print(label)\n",
    "    print(count)\n",
    "    print(count / total)\n",
    "    print(total)\n",
    "    return authors"
   ]
  },
  {
   "cell_type": "code",
   "execution_count": 39,
   "id": "durable-cleaning",
   "metadata": {},
   "outputs": [],
   "source": [
    "def calculate_score(history_score, code_score, api_score):\n",
    "    ave = 0\n",
    "    for try_ in range(0, 5):\n",
    "        answer = get_stat_for('../data/output/try1/jdt_direct_' + str(try_) +'_.csv', {}, '-new', 'ratio', 1, 1, 1)\n",
    "        ave += answer\n",
    "    print(ave / 5)"
   ]
  },
  {
   "cell_type": "code",
   "execution_count": 41,
   "id": "blond-democracy",
   "metadata": {},
   "outputs": [
    {
     "name": "stdout",
     "output_type": "stream",
     "text": [
      "0.4462519936204147\n",
      "done: 0_0_0\n",
      "0.4462519936204147\n",
      "done: 0_0_0.05\n",
      "0.4462519936204147\n",
      "done: 0_0_0.1\n",
      "0.4462519936204147\n",
      "done: 0_0_0.2\n",
      "0.4462519936204147\n",
      "done: 0_0_0.25\n",
      "0.4462519936204147\n",
      "done: 0_0_0.3\n",
      "0.4462519936204147\n",
      "done: 0_0_0.4\n",
      "0.4462519936204147\n",
      "done: 0_0_0.5\n",
      "0.4462519936204147\n",
      "done: 0_0_0.55\n",
      "0.4462519936204147\n",
      "done: 0_0_0.6\n",
      "0.4462519936204147\n",
      "done: 0_0_0.7\n",
      "0.4462519936204147\n",
      "done: 0_0_0.75\n",
      "0.4462519936204147\n",
      "done: 0_0_0.8\n",
      "0.4462519936204147\n",
      "done: 0_0_0.9\n",
      "0.4462519936204147\n",
      "done: 0_0_0.99\n",
      "0.4462519936204147\n",
      "done: 0_0_0.999\n",
      "0.4462519936204147\n",
      "done: 0_0_1\n",
      "0.4462519936204147\n",
      "done: 0_0.05_0\n"
     ]
    },
    {
     "ename": "KeyboardInterrupt",
     "evalue": "",
     "output_type": "error",
     "traceback": [
      "\u001b[0;31m---------------------------------------------------------------------------\u001b[0m",
      "\u001b[0;31mKeyboardInterrupt\u001b[0m                         Traceback (most recent call last)",
      "\u001b[0;32m<ipython-input-41-336d5872d2d0>\u001b[0m in \u001b[0;36m<module>\u001b[0;34m\u001b[0m\n\u001b[1;32m      6\u001b[0m         \u001b[0;32mfor\u001b[0m \u001b[0mapi_score\u001b[0m \u001b[0;32min\u001b[0m \u001b[0mparameter_range\u001b[0m\u001b[0;34m:\u001b[0m\u001b[0;34m\u001b[0m\u001b[0;34m\u001b[0m\u001b[0m\n\u001b[1;32m      7\u001b[0m             \u001b[0mkey\u001b[0m \u001b[0;34m=\u001b[0m \u001b[0mstr\u001b[0m\u001b[0;34m(\u001b[0m\u001b[0mhistory_score\u001b[0m\u001b[0;34m)\u001b[0m \u001b[0;34m+\u001b[0m \u001b[0;34m'_'\u001b[0m \u001b[0;34m+\u001b[0m \u001b[0mstr\u001b[0m\u001b[0;34m(\u001b[0m\u001b[0mcode_score\u001b[0m\u001b[0;34m)\u001b[0m \u001b[0;34m+\u001b[0m \u001b[0;34m'_'\u001b[0m \u001b[0;34m+\u001b[0m \u001b[0mstr\u001b[0m\u001b[0;34m(\u001b[0m\u001b[0mapi_score\u001b[0m\u001b[0;34m)\u001b[0m\u001b[0;34m\u001b[0m\u001b[0;34m\u001b[0m\u001b[0m\n\u001b[0;32m----> 8\u001b[0;31m             \u001b[0mvalue\u001b[0m \u001b[0;34m=\u001b[0m \u001b[0mcalculate_score\u001b[0m\u001b[0;34m(\u001b[0m\u001b[0mhistory_score\u001b[0m\u001b[0;34m,\u001b[0m \u001b[0mcode_score\u001b[0m\u001b[0;34m,\u001b[0m \u001b[0mapi_score\u001b[0m\u001b[0;34m)\u001b[0m\u001b[0;34m\u001b[0m\u001b[0;34m\u001b[0m\u001b[0m\n\u001b[0m\u001b[1;32m      9\u001b[0m             \u001b[0mprint\u001b[0m\u001b[0;34m(\u001b[0m\u001b[0;34m'done: '\u001b[0m \u001b[0;34m+\u001b[0m \u001b[0mkey\u001b[0m\u001b[0;34m)\u001b[0m\u001b[0;34m\u001b[0m\u001b[0;34m\u001b[0m\u001b[0m\n\u001b[1;32m     10\u001b[0m             \u001b[0manswer\u001b[0m\u001b[0;34m[\u001b[0m\u001b[0mkey\u001b[0m\u001b[0;34m]\u001b[0m \u001b[0;34m=\u001b[0m \u001b[0mvalue\u001b[0m\u001b[0;34m\u001b[0m\u001b[0;34m\u001b[0m\u001b[0m\n",
      "\u001b[0;32m<ipython-input-39-e55b26a8d21a>\u001b[0m in \u001b[0;36mcalculate_score\u001b[0;34m(history_score, code_score, api_score)\u001b[0m\n\u001b[1;32m      2\u001b[0m     \u001b[0mave\u001b[0m \u001b[0;34m=\u001b[0m \u001b[0;36m0\u001b[0m\u001b[0;34m\u001b[0m\u001b[0;34m\u001b[0m\u001b[0m\n\u001b[1;32m      3\u001b[0m     \u001b[0;32mfor\u001b[0m \u001b[0mtry_\u001b[0m \u001b[0;32min\u001b[0m \u001b[0mrange\u001b[0m\u001b[0;34m(\u001b[0m\u001b[0;36m0\u001b[0m\u001b[0;34m,\u001b[0m \u001b[0;36m5\u001b[0m\u001b[0;34m)\u001b[0m\u001b[0;34m:\u001b[0m\u001b[0;34m\u001b[0m\u001b[0;34m\u001b[0m\u001b[0m\n\u001b[0;32m----> 4\u001b[0;31m         \u001b[0manswer\u001b[0m \u001b[0;34m=\u001b[0m \u001b[0mget_stat_for\u001b[0m\u001b[0;34m(\u001b[0m\u001b[0;34m'../data/output/try1/jdt_direct_'\u001b[0m \u001b[0;34m+\u001b[0m \u001b[0mstr\u001b[0m\u001b[0;34m(\u001b[0m\u001b[0mtry_\u001b[0m\u001b[0;34m)\u001b[0m \u001b[0;34m+\u001b[0m\u001b[0;34m'_.csv'\u001b[0m\u001b[0;34m,\u001b[0m \u001b[0;34m{\u001b[0m\u001b[0;34m}\u001b[0m\u001b[0;34m,\u001b[0m \u001b[0;34m'-new'\u001b[0m\u001b[0;34m,\u001b[0m \u001b[0;34m'ratio'\u001b[0m\u001b[0;34m,\u001b[0m \u001b[0;36m1\u001b[0m\u001b[0;34m,\u001b[0m \u001b[0;36m1\u001b[0m\u001b[0;34m,\u001b[0m \u001b[0;36m1\u001b[0m\u001b[0;34m)\u001b[0m\u001b[0;34m\u001b[0m\u001b[0;34m\u001b[0m\u001b[0m\n\u001b[0m\u001b[1;32m      5\u001b[0m         \u001b[0mave\u001b[0m \u001b[0;34m+=\u001b[0m \u001b[0manswer\u001b[0m\u001b[0;34m\u001b[0m\u001b[0;34m\u001b[0m\u001b[0m\n\u001b[1;32m      6\u001b[0m     \u001b[0mprint\u001b[0m\u001b[0;34m(\u001b[0m\u001b[0mave\u001b[0m \u001b[0;34m/\u001b[0m \u001b[0;36m5\u001b[0m\u001b[0;34m)\u001b[0m\u001b[0;34m\u001b[0m\u001b[0;34m\u001b[0m\u001b[0m\n",
      "\u001b[0;32m<ipython-input-38-27a9c29dca3d>\u001b[0m in \u001b[0;36mget_stat_for\u001b[0;34m(file, authors, label, extra, time_a, time_b, time_c)\u001b[0m\n\u001b[1;32m     14\u001b[0m             \u001b[0mh\u001b[0m \u001b[0;34m=\u001b[0m \u001b[0mrow\u001b[0m\u001b[0;34m[\u001b[0m\u001b[0;34m'history_at_'\u001b[0m \u001b[0;34m+\u001b[0m \u001b[0mstr\u001b[0m\u001b[0;34m(\u001b[0m\u001b[0mi\u001b[0m\u001b[0;34m)\u001b[0m \u001b[0;34m+\u001b[0m \u001b[0;34m'_v'\u001b[0m\u001b[0;34m]\u001b[0m\u001b[0;34m\u001b[0m\u001b[0;34m\u001b[0m\u001b[0m\n\u001b[1;32m     15\u001b[0m             \u001b[0mc\u001b[0m \u001b[0;34m=\u001b[0m \u001b[0mrow\u001b[0m\u001b[0;34m[\u001b[0m\u001b[0;34m'code_at_'\u001b[0m \u001b[0;34m+\u001b[0m \u001b[0mstr\u001b[0m\u001b[0;34m(\u001b[0m\u001b[0mi\u001b[0m\u001b[0;34m)\u001b[0m \u001b[0;34m+\u001b[0m \u001b[0;34m'_v'\u001b[0m\u001b[0;34m]\u001b[0m\u001b[0;34m\u001b[0m\u001b[0;34m\u001b[0m\u001b[0m\n\u001b[0;32m---> 16\u001b[0;31m             \u001b[0ma\u001b[0m \u001b[0;34m=\u001b[0m \u001b[0mrow\u001b[0m\u001b[0;34m[\u001b[0m\u001b[0;34m'api_at_'\u001b[0m \u001b[0;34m+\u001b[0m \u001b[0mstr\u001b[0m\u001b[0;34m(\u001b[0m\u001b[0mi\u001b[0m\u001b[0;34m)\u001b[0m \u001b[0;34m+\u001b[0m \u001b[0;34m'_v'\u001b[0m\u001b[0;34m]\u001b[0m\u001b[0;34m\u001b[0m\u001b[0;34m\u001b[0m\u001b[0m\n\u001b[0m\u001b[1;32m     17\u001b[0m \u001b[0;34m\u001b[0m\u001b[0m\n\u001b[1;32m     18\u001b[0m             \u001b[0;32mif\u001b[0m \u001b[0mstr\u001b[0m\u001b[0;34m(\u001b[0m\u001b[0mh\u001b[0m\u001b[0;34m)\u001b[0m \u001b[0;34m!=\u001b[0m \u001b[0;34m'nan'\u001b[0m\u001b[0;34m:\u001b[0m\u001b[0;34m\u001b[0m\u001b[0;34m\u001b[0m\u001b[0m\n",
      "\u001b[0;32m/usr/local/anaconda3/lib/python3.8/site-packages/pandas/core/series.py\u001b[0m in \u001b[0;36m__getitem__\u001b[0;34m(self, key)\u001b[0m\n\u001b[1;32m    880\u001b[0m \u001b[0;34m\u001b[0m\u001b[0m\n\u001b[1;32m    881\u001b[0m         \u001b[0;32melif\u001b[0m \u001b[0mkey_is_scalar\u001b[0m\u001b[0;34m:\u001b[0m\u001b[0;34m\u001b[0m\u001b[0;34m\u001b[0m\u001b[0m\n\u001b[0;32m--> 882\u001b[0;31m             \u001b[0;32mreturn\u001b[0m \u001b[0mself\u001b[0m\u001b[0;34m.\u001b[0m\u001b[0m_get_value\u001b[0m\u001b[0;34m(\u001b[0m\u001b[0mkey\u001b[0m\u001b[0;34m)\u001b[0m\u001b[0;34m\u001b[0m\u001b[0;34m\u001b[0m\u001b[0m\n\u001b[0m\u001b[1;32m    883\u001b[0m \u001b[0;34m\u001b[0m\u001b[0m\n\u001b[1;32m    884\u001b[0m         \u001b[0;32mif\u001b[0m \u001b[0mis_hashable\u001b[0m\u001b[0;34m(\u001b[0m\u001b[0mkey\u001b[0m\u001b[0;34m)\u001b[0m\u001b[0;34m:\u001b[0m\u001b[0;34m\u001b[0m\u001b[0;34m\u001b[0m\u001b[0m\n",
      "\u001b[0;31mKeyboardInterrupt\u001b[0m: "
     ]
    }
   ],
   "source": [
    "parameter_range = [0, 0.05, 0.1, 0.2, 0.25, 0.3, 0.4, 0.5, 0.55, 0.6, 0.7, 0.75, 0.8, 0.9, 0.99, 0.999, 1]\n",
    "\n",
    "answer = {}\n",
    "for history_score in parameter_range:\n",
    "    for code_score in parameter_range:\n",
    "        for api_score in parameter_range:\n",
    "            key = str(history_score) + '_' + str(code_score) + '_' + str(api_score)\n",
    "            value = calculate_score(history_score, code_score, api_score)\n",
    "            print('done: ' + key)\n",
    "            answer[key] = value"
   ]
  },
  {
   "cell_type": "code",
   "execution_count": 24,
   "id": "sealed-calculation",
   "metadata": {},
   "outputs": [
    {
     "name": "stdout",
     "output_type": "stream",
     "text": [
      "0_0_0\n"
     ]
    }
   ],
   "source": [
    "print(max(answer, key= lambda x: answer[x]))"
   ]
  }
 ],
 "metadata": {
  "kernelspec": {
   "display_name": "Python 3",
   "language": "python",
   "name": "python3"
  },
  "language_info": {
   "codemirror_mode": {
    "name": "ipython",
    "version": 3
   },
   "file_extension": ".py",
   "mimetype": "text/x-python",
   "name": "python",
   "nbconvert_exporter": "python",
   "pygments_lexer": "ipython3",
   "version": "3.8.5"
  }
 },
 "nbformat": 4,
 "nbformat_minor": 5
}
